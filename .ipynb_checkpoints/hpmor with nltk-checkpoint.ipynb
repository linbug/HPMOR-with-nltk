{
 "metadata": {
  "name": "",
  "signature": "sha256:477789e680bf1fc475f5493b5eb6338534b087b7896aba3a7868dd1a3eb148be"
 },
 "nbformat": 3,
 "nbformat_minor": 0,
 "worksheets": [
  {
   "cells": [
    {
     "cell_type": "code",
     "collapsed": false,
     "input": [
      "from __future__ import division # Python 2 users only\n",
      "import nltk, re, pprint\n",
      "from nltk import word_tokenize\n",
      "from urllib2 import urlopen\n",
      "from bs4 import BeautifulSoup"
     ],
     "language": "python",
     "metadata": {},
     "outputs": [],
     "prompt_number": 2
    },
    {
     "cell_type": "code",
     "collapsed": false,
     "input": [
      "# create a function to load in the text of a chapter, tokenise and clean the unwanted stuff from the start and the end \n",
      "def tokenise(url):\n",
      "    html = urlopen(url).read().decode('utf8')\n",
      "    raw = BeautifulSoup(html).get_text()          # extract all of the text from the page\n",
      "    tokens = word_tokenize(raw)                   # tokenise the string\n",
      "    start_index = tokens.index(\"Caring\")+3        # start index\n",
      "    end_index = tokens.index(\"FanFiction.net\")-11 # end index\n",
      "    return tokens [start_index:end_index]"
     ],
     "language": "python",
     "metadata": {},
     "outputs": [],
     "prompt_number": 3
    },
    {
     "cell_type": "code",
     "collapsed": false,
     "input": [
      "# load all of the chapters and extend into one list\n",
      "text = []\n",
      "\n",
      "for i in range(1,102):\n",
      "    url = \"http://hpmor.com/chapter/%d\" %i\n",
      "    tokens = tokenise(url)\n",
      "    text.extend(tokens)\n"
     ],
     "language": "python",
     "metadata": {},
     "outputs": [],
     "prompt_number": 4
    },
    {
     "cell_type": "code",
     "collapsed": false,
     "input": [
      "# convert the list to an nltk.Text object\n",
      "hpmor = nltk.Text(text)"
     ],
     "language": "python",
     "metadata": {},
     "outputs": [],
     "prompt_number": 5
    },
    {
     "cell_type": "code",
     "collapsed": false,
     "input": [
      "# check the type\n",
      "type(hpmor)"
     ],
     "language": "python",
     "metadata": {},
     "outputs": [
      {
       "metadata": {},
       "output_type": "pyout",
       "prompt_number": 6,
       "text": [
        "nltk.text.Text"
       ]
      }
     ],
     "prompt_number": 6
    },
    {
     "cell_type": "code",
     "collapsed": false,
     "input": [
      "len(hpmor)"
     ],
     "language": "python",
     "metadata": {},
     "outputs": [
      {
       "metadata": {},
       "output_type": "pyout",
       "prompt_number": 8,
       "text": [
        "664115"
       ]
      }
     ],
     "prompt_number": 8
    },
    {
     "cell_type": "code",
     "collapsed": false,
     "input": [
      "hpmor.common_contexts(['Harry','Hermione'])"
     ],
     "language": "python",
     "metadata": {},
     "outputs": [
      {
       "output_type": "stream",
       "stream": "stdout",
       "text": [
        "over_'s said_, ''_looked to_and ''_considered like_, ,_swallowed\n",
        "when_opened what_and ._did ._blinked as_started ,_? in_, time_had\n",
        "._walked ''_began of_, before_finally for_'s\n"
       ]
      }
     ],
     "prompt_number": 7
    }
   ],
   "metadata": {}
  }
 ]
}