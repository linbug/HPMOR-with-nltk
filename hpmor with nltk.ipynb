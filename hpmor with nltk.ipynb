{
 "metadata": {
  "name": "",
  "signature": "sha256:0f0796cc6af6f2c8913fb44888d70c7eb25c393c75f0495d437ecf68bf9943af"
 },
 "nbformat": 3,
 "nbformat_minor": 0,
 "worksheets": [
  {
   "cells": [
    {
     "cell_type": "heading",
     "level": 1,
     "metadata": {},
     "source": [
      "HPMOR with nltk"
     ]
    },
    {
     "cell_type": "heading",
     "level": 4,
     "metadata": {},
     "source": [
      "This is a natural language processing analysis of the popular rationalist fanfiction 'Harry Potter and the Methods of Rationality' (HPMOR) by Eliezer Yudkowsky. \n",
      "\n",
      "The aim is to i) learn some NLP methods in Python using the nltk package ii) explore some fun hypotheses! "
     ]
    },
    {
     "cell_type": "code",
     "collapsed": false,
     "input": [
      "from __future__ import division # Python 2 users only\n",
      "import nltk, re, pprint\n",
      "import numpy as np\n",
      "import matplotlib as mpl\n",
      "import seaborn as sns\n",
      "from nltk import word_tokenize\n",
      "from nltk.tokenize import sent_tokenize\n",
      "from urllib2 import urlopen\n",
      "from bs4 import BeautifulSoup\n",
      "%pylab inline"
     ],
     "language": "python",
     "metadata": {},
     "outputs": [
      {
       "output_type": "stream",
       "stream": "stdout",
       "text": [
        "Populating the interactive namespace from numpy and matplotlib\n"
       ]
      }
     ],
     "prompt_number": 18
    },
    {
     "cell_type": "markdown",
     "metadata": {},
     "source": [
      "First, I need to load in the data. I could have got this from the PDF file, but that has a lot of pictures and unwanted formatting that I wouldn't want in the text. So I decided to scrape the text from the HPMOR website, which also has the advantage of having all of the latest chapters as they are written."
     ]
    },
    {
     "cell_type": "code",
     "collapsed": false,
     "input": [
      "# create a function to load in the text of a chapter from the HPMOR site, tokenise and clean the unwanted stuff from the start and the end \n",
      "def word_tokenise(url):\n",
      "    html = urlopen(url).read().decode('utf8')\n",
      "    raw = BeautifulSoup(html).get_text()          # extract all of the text from the page\n",
      "    tokens = word_tokenize(raw)                   # tokenise the string (breaking it down into individual words)\n",
      "    start_index = tokens.index(\"Caring\")+3        # start index\n",
      "    end_index = tokens.index(\"FanFiction.net\")-11 # end index\n",
      "    return tokens [start_index:end_index]\n"
     ],
     "language": "python",
     "metadata": {},
     "outputs": [],
     "prompt_number": 2
    },
    {
     "cell_type": "code",
     "collapsed": false,
     "input": [
      "# load all of the chapters and extend into one list\n",
      "\n",
      "text = []\n",
      "\n",
      "for i in range(1,103):                            # there are 102 chapters\n",
      "    url = \"http://hpmor.com/chapter/%d\" %i\n",
      "    tokens = word_tokenise(url)\n",
      "    text.extend(tokens)"
     ],
     "language": "python",
     "metadata": {},
     "outputs": [],
     "prompt_number": 3
    },
    {
     "cell_type": "code",
     "collapsed": false,
     "input": [
      "# convert the list to an nltk.Text object\n",
      "hpmor = nltk.Text(text)"
     ],
     "language": "python",
     "metadata": {},
     "outputs": [],
     "prompt_number": 4
    },
    {
     "cell_type": "code",
     "collapsed": false,
     "input": [
      "# check the type\n",
      "type(hpmor)"
     ],
     "language": "python",
     "metadata": {},
     "outputs": [
      {
       "metadata": {},
       "output_type": "pyout",
       "prompt_number": 5,
       "text": [
        "nltk.text.Text"
       ]
      }
     ],
     "prompt_number": 5
    },
    {
     "cell_type": "markdown",
     "metadata": {},
     "source": [
      "Now I am in a position to do some analyses on the text. First I'll find out how many words there are up to the current chapter. "
     ]
    },
    {
     "cell_type": "code",
     "collapsed": false,
     "input": [
      "print \"HPMOR has %d words in it\" %len(hpmor)"
     ],
     "language": "python",
     "metadata": {},
     "outputs": [
      {
       "output_type": "stream",
       "stream": "stdout",
       "text": [
        "HPMOR has 670171 words in it\n"
       ]
      }
     ],
     "prompt_number": 6
    },
    {
     "cell_type": "markdown",
     "metadata": {},
     "source": [
      "I can use a Lexical Dispersion Plot to show where in the text particular words appear. I've picked a few words that are relevant to the book's themes. Clearly, some words like 'magic' are peppered frequently throughout the text, whereas 'rationality' features surprisingly sparsely."
     ]
    },
    {
     "cell_type": "code",
     "collapsed": false,
     "input": [
      "# show where in the text certain words appear\n",
      "hpmor.dispersion_plot(['death', 'rationality', 'evil', 'curiosity', 'magic', 'dark', 'light', 'science', 'universe', 'technology', 'money'])"
     ],
     "language": "python",
     "metadata": {},
     "outputs": [
      {
       "metadata": {},
       "output_type": "display_data",
       "png": "[encoded data removed]",
       "text": [
        "<matplotlib.figure.Figure at 0x9b2e668>"
       ]
      }
     ],
     "prompt_number": 7
    },
    {
     "cell_type": "markdown",
     "metadata": {},
     "source": [
      "The similar function finds all words that have occur in a similar context within the text. This doesn't seem to be highlighting anything particularly interesting for the words I've chosen."
     ]
    },
    {
     "cell_type": "code",
     "collapsed": false,
     "input": [
      "hpmor.similar('magic')"
     ],
     "language": "python",
     "metadata": {},
     "outputs": [
      {
       "output_type": "stream",
       "stream": "stdout",
       "text": [
        "it you that harry what this them time there him me way her hermione\n",
        "father hogwarts he wand the i\n"
       ]
      }
     ],
     "prompt_number": 8
    },
    {
     "cell_type": "code",
     "collapsed": false,
     "input": [
      "hpmor.similar('science')"
     ],
     "language": "python",
     "metadata": {},
     "outputs": [
      {
       "output_type": "stream",
       "stream": "stdout",
       "text": [
        "it that you this harry what him magic malfoy hogwarts me them the\n",
        "course power something things slytherin light how\n"
       ]
      }
     ],
     "prompt_number": 9
    },
    {
     "cell_type": "code",
     "collapsed": false,
     "input": [
      "hpmor.similar('technology')"
     ],
     "language": "python",
     "metadata": {},
     "outputs": [
      {
       "output_type": "stream",
       "stream": "stdout",
       "text": [
        "time ground light room end answer distance air left floor water cloak\n",
        "man money world potion stone stars children bullies\n"
       ]
      }
     ],
     "prompt_number": 10
    },
    {
     "cell_type": "code",
     "collapsed": false,
     "input": [
      "hpmor.similar('money')"
     ],
     "language": "python",
     "metadata": {},
     "outputs": [
      {
       "output_type": "stream",
       "stream": "stdout",
       "text": [
        "it time power that them way magic hogwarts life man thing you paper\n",
        "book boy cloak world light voice students\n"
       ]
      }
     ],
     "prompt_number": 11
    },
    {
     "cell_type": "markdown",
     "metadata": {},
     "source": [
      "Hapaxes are words that occur only once in the text. Sort of like Googlewhacks. There were lots of these and so I've only printed the first  15. What's noticeable is that there are a lot of hyphenated words turning up, which is typical of the author's style of mashing words together."
     ]
    },
    {
     "cell_type": "code",
     "collapsed": false,
     "input": [
      "fd = nltk.FreqDist(hpmor)\n",
      "hpx = fd.hapaxes()\n",
      "hpx[:15]"
     ],
     "language": "python",
     "metadata": {},
     "outputs": [
      {
       "metadata": {},
       "output_type": "pyout",
       "prompt_number": 8,
       "text": [
        "[u'bypassed',\n",
        " u'thrice-cursed',\n",
        " u'anti-tampering',\n",
        " u'absentminded',\n",
        " u'centimeter',\n",
        " u'sevens',\n",
        " u'LAST',\n",
        " u'cohered',\n",
        " u'Casey',\n",
        " u'thickly',\n",
        " u'unnecessarily',\n",
        " u'demoted',\n",
        " u'immature',\n",
        " u'three-thirty',\n",
        " u'counterspells']"
       ]
      }
     ],
     "prompt_number": 8
    },
    {
     "cell_type": "markdown",
     "metadata": {},
     "source": [
      "Next, I'll look at the words that are used many times in the text. I've restricted this to words over 7 letters in length, as without this  you end up with a lot of words like 'and'. The threshold for number of times the word must appear is set at 20. There are a lot of words turning up that are clearly specific to the Harry Potter universe, like 'Dementor' and 'Grindelwald'."
     ]
    },
    {
     "cell_type": "code",
     "collapsed": false,
     "input": [
      "# sort the words that are greater than 7 letters long and occur more than 20 times\n",
      "long_n_popular = sorted(w for w in set(hpmor) if len(w) > 7 and fd[w] > 20)\n",
      "long_n_popular[:20]"
     ],
     "language": "python",
     "metadata": {},
     "outputs": [
      {
       "metadata": {},
       "output_type": "pyout",
       "prompt_number": 13,
       "text": [
        "[u'Actually',\n",
        " u'Aftermath',\n",
        " u'Animagus',\n",
        " u'Bellatrix',\n",
        " u'Boy-Who-Lived',\n",
        " u'Chaotics',\n",
        " u'Christmas',\n",
        " u'Comed-Tea',\n",
        " u'Dementor',\n",
        " u'Dementors',\n",
        " u'Director',\n",
        " u'Dumbledore',\n",
        " u'Everyone',\n",
        " u'Felthorne',\n",
        " u'Flitwick',\n",
        " u'Forbidden',\n",
        " u'Galleons',\n",
        " u'Greengrass',\n",
        " u'Grindelwald',\n",
        " u'Gringotts']"
       ]
      }
     ],
     "prompt_number": 13
    },
    {
     "cell_type": "markdown",
     "metadata": {},
     "source": [
      "The collocations functions finds pairs of words that frequently occur together. Unsurprisingly, this is picking out a lot of names"
     ]
    },
    {
     "cell_type": "code",
     "collapsed": false,
     "input": [
      "# collocations finds the pairs of words that frequently occur together\n",
      "hpmor.collocations()"
     ],
     "language": "python",
     "metadata": {},
     "outputs": [
      {
       "output_type": "stream",
       "stream": "stdout",
       "text": [
        "Professor Quirrell; Professor McGonagall; Dark Lord; Mr. Potter; old\n",
        "wizard; Defense Professor; Harry Potter; Harry said; could n't; Miss\n",
        "Granger; Hermione Granger; Sorting Hat; Patronus Charm; Potions\n",
        "Master; Lucius Malfoy; would n't; Draco Malfoy; Death Eaters; n't\n",
        "know; 've got\n"
       ]
      }
     ],
     "prompt_number": 15
    },
    {
     "cell_type": "heading",
     "level": 4,
     "metadata": {},
     "source": [
      "Character interaction networks"
     ]
    },
    {
     "cell_type": "markdown",
     "metadata": {},
     "source": [
      "Next, I want to investigate how the interactions between characters is changing over the course of the book. This could be the precursor to some kind of network analysis. As a first stab, I've decided to use instances of characters mentioned in the same sentence as a proxy for interaction. To do that, I need to retokenise the text into sentences. "
     ]
    },
    {
     "cell_type": "code",
     "collapsed": false,
     "input": [
      "# in order to look at co-occurring words in a sentence, I created a new function that returns a cleaned string of the raw text\n",
      "def clean_chapter_string(url):\n",
      "    html = urlopen(url).read().decode('utf8')\n",
      "    raw = BeautifulSoup(html).get_text()          # extract all of the text from the page\n",
      "    raw_start = raw.index('Caring') + 14          # raw string start index (for sentence tokenisation)\n",
      "    raw_end = raw.index('reviews or write ')-8    # raw string end index \n",
      "    return raw [raw_start:raw_end]"
     ],
     "language": "python",
     "metadata": {},
     "outputs": [],
     "prompt_number": 9
    },
    {
     "cell_type": "code",
     "collapsed": false,
     "input": [
      "# Then I appended these strings into the complete raw text\n",
      "raw_text_string=\"\"\n",
      "\n",
      "for i in range(1,103):\n",
      "    url = \"http://hpmor.com/chapter/%d\" %i\n",
      "    raw_text_string = raw_text_string + ' ' + clean_chapter_string(url)"
     ],
     "language": "python",
     "metadata": {},
     "outputs": [],
     "prompt_number": 10
    },
    {
     "cell_type": "code",
     "collapsed": false,
     "input": [
      "# Then use the sent_tokenise function to split up the sentences (the function  works off the basis of a pre-trained Punktd module that can\n",
      "# differentiate sentence ends from abbreviations etc.)\n",
      "sentence_list = sent_tokenize(raw_text_string)\n",
      "num_sentences = len(sentence_list)\n",
      "sentence_list[:5]"
     ],
     "language": "python",
     "metadata": {},
     "outputs": [
      {
       "metadata": {},
       "output_type": "pyout",
       "prompt_number": 11,
       "text": [
        "[u' Chapter 1: A Day of Very Low\\nProbability\\n\\nDisclaimer: J. K. Rowling owns Harry Potter, and no one owns the\\nmethods of rationality.',\n",
        " u'This fic is widely considered to have really hit its stride\\nstarting at around Chapter 5.',\n",
        " u\"If you still don't like it after\\nChapter 10, give up.\",\n",
        " u\"Please visit HPMOR DOT COM for:\\n* Easy email notification system, RSS feed, and Twitter feed for\\nnew chapters;\\n* Current Author's Notes and progress updates;\\n* Lovely fan-made book-style PDF version;\\n* Ad-free mirror of the text;\\n* ePUB and MOBI e-texts;\\n* Ongoing podcast of the story;\\n* Fan art in vast quantities;\\n* Cameo list (characters named after fan artists);\\n* Fan-fanfiction of this fanfiction;\\n* Fan music, songs, and animations;\\n* Fan translations;\\n* The OKCupid keyword for HPMOR readers;\\n* Links to TV Tropes page and discussion forum;\\n* Trigger warnings page (warnings about possible traumatic\\nassociations for some readers; to avoid spoilers for most readers,\\nthere are no warnings inside the main story);\\n* How to learn everything the main character knows;\\n* Open job positions at a related nonprofit;\\n* And ever so much more.\",\n",
        " u'Reviews make me happy.']"
       ]
      }
     ],
     "prompt_number": 11
    },
    {
     "cell_type": "markdown",
     "metadata": {},
     "source": [
      "Above is the first five sentences of the first chapter of the book. It seems to be working ok. Next, I need to make the function that will return a list of the indices where two characters appear. When searching for certain characters, we need to take into account that sometimes they are referred to by different names e.g. Harry can be 'The-Boy-Who-Lived' or just 'Potter'. So after a few interations I decided to pass a list of pre-determined names to the function."
     ]
    },
    {
     "cell_type": "code",
     "collapsed": false,
     "input": [
      "def characters_sentence_indexes(a,b):\n",
      "    l = [i for i in range(num_sentences) for A in a for B in b if (A in sentence_list[i])*(B in sentence_list[i])]\n",
      "    return list(set(l))     # first converting to a set removes the duplicates       "
     ],
     "language": "python",
     "metadata": {},
     "outputs": [],
     "prompt_number": 13
    },
    {
     "cell_type": "code",
     "collapsed": false,
     "input": [
      "# enter lists of possible names for the two characters being examined\n",
      "Harry_list = [\"Harry\",\"Boy-Who-Lived\",\"Potter\"]\n",
      "Draco_list = [\"Draco\", \"Malfoy\"]"
     ],
     "language": "python",
     "metadata": {},
     "outputs": [],
     "prompt_number": 14
    },
    {
     "cell_type": "code",
     "collapsed": false,
     "input": [
      "# apply the function to find the sentence indices where both characters feature\n",
      "Harry_Draco_sentence_indexes = characters_sentence_indexes(Harry_list,Draco_list)\n",
      "\"the number of sentences where Harry and Draco are both mentioned is %d\" %len(Harry_Draco_sentence_indexes)"
     ],
     "language": "python",
     "metadata": {},
     "outputs": [
      {
       "metadata": {},
       "output_type": "pyout",
       "prompt_number": 45,
       "text": [
        "'the number of sentences where Harry and Draco are both mentioned is 473'"
       ]
      }
     ],
     "prompt_number": 45
    },
    {
     "cell_type": "markdown",
     "metadata": {},
     "source": [
      "I printed out some of these sentences to check the output, and realised that identifying a character in a text is more complicated than I first thought. Not only is a single character referred to by multiple names, but a name can refer to more than one character. For example, 'Potter' can refer to Harry's dad. ditto for 'Malfoy'. I'm not sure how one would distinguish between these different possibilities; maybe some sort of machine learning technique to look at the surrounding context?"
     ]
    },
    {
     "cell_type": "code",
     "collapsed": false,
     "input": [
      "[sentence_list[i] for i in Harry_Draco_sentence_indexes[45:50]]"
     ],
     "language": "python",
     "metadata": {},
     "outputs": [
      {
       "metadata": {},
       "output_type": "pyout",
       "prompt_number": 46,
       "text": [
        "[u'\"And yes,\" said Harry, \"I am sure that Draco Malfoy\\nisn\\'t behind it.\"',\n",
        " u'But Harry didn\\'t say that, of course;\\ninstead he just grinned slightly, and said, \"So either you\\'ve\\nreally never read Draco\\'s mind, or that\\'s just what you\\nwant me to think.\"',\n",
        " u\"The other two\\ngenerals, Draco knew, had been given their own compasses; only\\nHermione Granger's hand, and Harry Potter's hand, would hold a\\ncompass that was orange-red and flickered in its reflections like\\nfire, pointing always to the direction of the largest active\\ncontingent of Dragon Army.\",\n",
        " u'\"Dr. Malfoy,\" said Dr. Potter with a hopeful look, \"I was\\nwondering if the Journal of Irreproducible Results could\\nconsider for publication my paper entitled \\'On the Heritability of\\nMagical Ability\\'.\"',\n",
        " u'Draco would have felt a lot better with Hermione Granger\\nstanding alongside him with her twenty-three Sunshine Soldiers in\\ntow, but no, the Sunshine General was being stupidly proud and\\nrefusing to accept aid against General Potter.']"
       ]
      }
     ],
     "prompt_number": 46
    },
    {
     "cell_type": "markdown",
     "metadata": {},
     "source": [
      "I'll carry on with what I've got for now. It should be able to give a rough idea of where both characters are appearing, even if there are some false positives and missed records. Below are some visualisations of the data."
     ]
    },
    {
     "cell_type": "code",
     "collapsed": false,
     "input": [
      "# plot a histogram showing where the sentences occur in the text\n",
      "Harry_Draco_hist = sns.distplot(Harry_Draco_sentence_indexes, bins = 30, axlabel = \"sentence number\")\n",
      "pylab.title(\"Histogram and kernal density plot showing sentences where Harry and Draco both appear in HPMOR\", y=1.08)"
     ],
     "language": "python",
     "metadata": {},
     "outputs": [
      {
       "metadata": {},
       "output_type": "pyout",
       "prompt_number": 65,
       "text": [
        "<matplotlib.text.Text at 0x184a6f28>"
       ]
      },
      {
       "metadata": {},
       "output_type": "display_data",
       "png": "[encoded data removed]",
       "text": [
        "<matplotlib.figure.Figure at 0x17ce6898>"
       ]
      }
     ],
     "prompt_number": 65
    },
    {
     "cell_type": "code",
     "collapsed": false,
     "input": [
      "# plot a histogram showing where the sentences occur in the text\n",
      "Hermione_list = [\"Hermione\",\"Granger\"]\n",
      "Harry_Hermione_sentence_indexes = characters_sentence_indexes(Harry_list,Hermione_list)\n",
      "Harry_Hermione_hist = sns.distplot(Harry_Hermione_sentence_indexes, bins = 50, axlabel = \"sentence number\")\n",
      "pylab.title(\"Histogram and kernal density plot showing sentences where Harry and Hermione both appear in HPMOR\", y=1.08)"
     ],
     "language": "python",
     "metadata": {},
     "outputs": [
      {
       "metadata": {},
       "output_type": "pyout",
       "prompt_number": 68,
       "text": [
        "<matplotlib.text.Text at 0x18f5bfd0>"
       ]
      },
      {
       "metadata": {},
       "output_type": "display_data",
       "png": "[encoded data removed]",
       "text": [
        "<matplotlib.figure.Figure at 0x18f4bf98>"
       ]
      }
     ],
     "prompt_number": 68
    },
    {
     "cell_type": "code",
     "collapsed": false,
     "input": [
      "Voldemort_list = [\"Voldemort\",\"He-Who-Must-Not-Be-Named\"]\n",
      "Harry_Voldemort_sentence_indexes = characters_sentence_indexes(Harry_list,Voldemort_list)\n",
      "len(Harry_Voldemort_sentence_indexes)\n",
      "Harry_Voldemort_hist = sns.distplot(Harry_Voldemort_sentence_indexes, bins = 40)\n",
      "pylab.title(\"Histogram and kernal density plot showing sentences where Harry and Voldemort both appear in HPMOR\", y=1.08)"
     ],
     "language": "python",
     "metadata": {},
     "outputs": [
      {
       "metadata": {},
       "output_type": "pyout",
       "prompt_number": 54,
       "text": [
        "<matplotlib.text.Text at 0x1594bf28>"
       ]
      },
      {
       "metadata": {},
       "output_type": "display_data",
       "png": "[encoded data removed]",
       "text": [
        "<matplotlib.figure.Figure at 0x13db1128>"
       ]
      }
     ],
     "prompt_number": 54
    },
    {
     "cell_type": "code",
     "collapsed": false,
     "input": [
      "Quirrell_list = [\"Quirrell\"]\n",
      "Harry_Quirrell_sentence_indexes = characters_sentence_indexes(Harry_list,Quirrell_list)\n",
      "len(Harry_Quirrell_sentence_indexes)\n",
      "Harry_Quirrell_hist = sns.distplot(Harry_Quirrell_sentence_indexes, bins = 40)\n",
      "pylab.title(\"Histogram and kernal density plot showing sentences where Harry and Quirrell both appear in HPMOR\", y=1.08)"
     ],
     "language": "python",
     "metadata": {},
     "outputs": [
      {
       "metadata": {},
       "output_type": "pyout",
       "prompt_number": 70,
       "text": [
        "<matplotlib.text.Text at 0x145655c0>"
       ]
      },
      {
       "metadata": {},
       "output_type": "display_data",
       "png": "[encoded data removed]",
       "text": [
        "<matplotlib.figure.Figure at 0x13168c18>"
       ]
      }
     ],
     "prompt_number": 70
    },
    {
     "cell_type": "code",
     "collapsed": false,
     "input": [
      "def character_sentence_indexes(a):\n",
      "    l = [i for i in range(num_sentences) for A in a if (A in sentence_list[i])]\n",
      "    return list(set(l))     # first converting to a set removes the duplicates     "
     ],
     "language": "python",
     "metadata": {},
     "outputs": [],
     "prompt_number": 38
    },
    {
     "cell_type": "code",
     "collapsed": false,
     "input": [
      "h = character_sentence_indexes(Harry_list)"
     ],
     "language": "python",
     "metadata": {},
     "outputs": [],
     "prompt_number": 40
    },
    {
     "cell_type": "code",
     "collapsed": false,
     "input": [
      "# apply the function to find the sentence indices where both characters feature\n",
      "Harry_sentence_indexes = character_sentence_indexes(Harry_list)\n",
      "Harry_sentence_indexes = list(Harry_sentence_indexes)\n",
      "\"the number of sentences where Harry is mentioned is %d\" %len(Harry_sentence_indexes)"
     ],
     "language": "python",
     "metadata": {},
     "outputs": [
      {
       "metadata": {},
       "output_type": "pyout",
       "prompt_number": 41,
       "text": [
        "'the number of sentences where Harry is mentioned is 7721'"
       ]
      }
     ],
     "prompt_number": 41
    },
    {
     "cell_type": "code",
     "collapsed": false,
     "input": [
      "# apply the function to find the sentence indices where both characters feature\n",
      "Draco_sentence_indexes = character_sentence_indexes(Draco_list)\n",
      "Draco_sentence_indexes = list(Draco_sentence_indexes)\n",
      "\"the number of sentences where Draco is mentioned is %d\" %len(Draco_sentence_indexes)"
     ],
     "language": "python",
     "metadata": {},
     "outputs": [
      {
       "metadata": {},
       "output_type": "pyout",
       "prompt_number": 42,
       "text": [
        "'the number of sentences where Draco is mentioned is 2034'"
       ]
      }
     ],
     "prompt_number": 42
    }
   ],
   "metadata": {}
  }
 ]
}