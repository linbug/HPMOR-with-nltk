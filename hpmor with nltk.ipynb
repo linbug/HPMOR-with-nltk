{
 "metadata": {
  "name": "",
  "signature": "sha256:47b41915cbb4f9920d3b3bfc96e576a8d3e47d44d99f4f3f9bacb69673c2efac"
 },
 "nbformat": 3,
 "nbformat_minor": 0,
 "worksheets": [
  {
   "cells": [
    {
     "cell_type": "code",
     "collapsed": false,
     "input": [
      "from __future__ import division # Python 2 users only\n",
      "import nltk, re, pprint\n",
      "import numpy as np\n",
      "from nltk import word_tokenize\n",
      "from nltk.tokenize import sent_tokenize\n",
      "from urllib2 import urlopen\n",
      "from bs4 import BeautifulSoup\n",
      "%pylab inline"
     ],
     "language": "python",
     "metadata": {},
     "outputs": [
      {
       "output_type": "stream",
       "stream": "stdout",
       "text": [
        "Populating the interactive namespace from numpy and matplotlib\n"
       ]
      }
     ],
     "prompt_number": 1
    },
    {
     "cell_type": "code",
     "collapsed": false,
     "input": [
      "# create a function to load in the text of a chapter, tokenise and clean the unwanted stuff from the start and the end \n",
      "def word_tokenise(url):\n",
      "    html = urlopen(url).read().decode('utf8')\n",
      "    raw = BeautifulSoup(html).get_text()          # extract all of the text from the page\n",
      "    tokens = word_tokenize(raw)                   # tokenise the string (word tokenisation)\n",
      "    start_index = tokens.index(\"Caring\")+3        # start index\n",
      "    end_index = tokens.index(\"FanFiction.net\")-11 # end index\n",
      "    return tokens [start_index:end_index]\n"
     ],
     "language": "python",
     "metadata": {},
     "outputs": [],
     "prompt_number": 2
    },
    {
     "cell_type": "code",
     "collapsed": false,
     "input": [
      "# load all of the chapters and extend into one list\n",
      "\n",
      "text = []\n",
      "\n",
      "for i in range(1,102):\n",
      "    url = \"http://hpmor.com/chapter/%d\" %i\n",
      "    tokens = word_tokenise(url)\n",
      "    text.extend(tokens)"
     ],
     "language": "python",
     "metadata": {},
     "outputs": [],
     "prompt_number": 3
    },
    {
     "cell_type": "code",
     "collapsed": false,
     "input": [
      "# convert the list to an nltk.Text object\n",
      "hpmor = nltk.Text(text)"
     ],
     "language": "python",
     "metadata": {},
     "outputs": [],
     "prompt_number": 4
    },
    {
     "cell_type": "code",
     "collapsed": false,
     "input": [
      "# check the type\n",
      "type(hpmor)"
     ],
     "language": "python",
     "metadata": {},
     "outputs": [
      {
       "metadata": {},
       "output_type": "pyout",
       "prompt_number": 5,
       "text": [
        "nltk.text.Text"
       ]
      }
     ],
     "prompt_number": 5
    },
    {
     "cell_type": "code",
     "collapsed": false,
     "input": [
      "len(hpmor)"
     ],
     "language": "python",
     "metadata": {},
     "outputs": [
      {
       "metadata": {},
       "output_type": "pyout",
       "prompt_number": 6,
       "text": [
        "664115"
       ]
      }
     ],
     "prompt_number": 6
    },
    {
     "cell_type": "heading",
     "level": 6,
     "metadata": {},
     "source": [
      "There are 664115 words in HPMOR (up to the current chapter)"
     ]
    },
    {
     "cell_type": "code",
     "collapsed": false,
     "input": [
      "# show where in the text certain words appear\n",
      "hpmor.dispersion_plot(['death', 'rationality', 'evil', 'curiosity', 'magic', 'dark', 'light', 'science', 'universe', 'technology', 'money'])"
     ],
     "language": "python",
     "metadata": {},
     "outputs": [
      {
       "metadata": {},
       "output_type": "display_data",
       "png": "[encoded data removed]",
       "text": [
        "<matplotlib.figure.Figure at 0x415ca90>"
       ]
      }
     ],
     "prompt_number": 7
    },
    {
     "cell_type": "heading",
     "level": 6,
     "metadata": {},
     "source": [
      "Plot showing where various words occur throughout HPMOR"
     ]
    },
    {
     "cell_type": "code",
     "collapsed": false,
     "input": [
      "# similar finds all word that have a similar context within the text\n",
      "hpmor.similar('magic')"
     ],
     "language": "python",
     "metadata": {},
     "outputs": [
      {
       "output_type": "stream",
       "stream": "stdout",
       "text": [
        "it you that harry what this them time there him me way her hermione\n",
        "father hogwarts he wand the i\n"
       ]
      }
     ],
     "prompt_number": 8
    },
    {
     "cell_type": "code",
     "collapsed": false,
     "input": [
      "hpmor.similar('science')"
     ],
     "language": "python",
     "metadata": {},
     "outputs": [
      {
       "output_type": "stream",
       "stream": "stdout",
       "text": [
        "it that you this harry what him magic malfoy hogwarts me them the\n",
        "course power something things slytherin light how\n"
       ]
      }
     ],
     "prompt_number": 9
    },
    {
     "cell_type": "code",
     "collapsed": false,
     "input": [
      "hpmor.similar('technology')"
     ],
     "language": "python",
     "metadata": {},
     "outputs": [
      {
       "output_type": "stream",
       "stream": "stdout",
       "text": [
        "time ground light room end answer distance air left floor water cloak\n",
        "man money world potion stone stars children bullies\n"
       ]
      }
     ],
     "prompt_number": 10
    },
    {
     "cell_type": "code",
     "collapsed": false,
     "input": [
      "hpmor.similar('money')"
     ],
     "language": "python",
     "metadata": {},
     "outputs": [
      {
       "output_type": "stream",
       "stream": "stdout",
       "text": [
        "it time power that them way magic hogwarts life man thing you paper\n",
        "book boy cloak world light voice students\n"
       ]
      }
     ],
     "prompt_number": 11
    },
    {
     "cell_type": "code",
     "collapsed": false,
     "input": [
      "# hapaxes are words that occur only once. Sort of like Googlewhacks.\n",
      "fd = nltk.FreqDist(hpmor)\n",
      "hpx = fd.hapaxes()\n",
      "hpx[:10]"
     ],
     "language": "python",
     "metadata": {},
     "outputs": [
      {
       "metadata": {},
       "output_type": "pyout",
       "prompt_number": 12,
       "text": [
        "[u'bypassed',\n",
        " u'thrice-cursed',\n",
        " u'anti-tampering',\n",
        " u'absentminded',\n",
        " u'centimeter',\n",
        " u'sevens',\n",
        " u'LAST',\n",
        " u'cohered',\n",
        " u'Casey',\n",
        " u'thickly']"
       ]
      }
     ],
     "prompt_number": 12
    },
    {
     "cell_type": "heading",
     "level": 6,
     "metadata": {},
     "source": [
      "A selection of words that occur only once in HPMOR"
     ]
    },
    {
     "cell_type": "code",
     "collapsed": false,
     "input": [
      "# sort the words that are greater than 7 letters long and occur more than 20 times\n",
      "long_n_popular = sorted(w for w in set(hpmor) if len(w) > 7 and fd[w] > 20)\n",
      "long_n_popular[:20]"
     ],
     "language": "python",
     "metadata": {},
     "outputs": [
      {
       "metadata": {},
       "output_type": "pyout",
       "prompt_number": 13,
       "text": [
        "[u'Actually',\n",
        " u'Aftermath',\n",
        " u'Animagus',\n",
        " u'Bellatrix',\n",
        " u'Boy-Who-Lived',\n",
        " u'Chaotics',\n",
        " u'Christmas',\n",
        " u'Comed-Tea',\n",
        " u'Dementor',\n",
        " u'Dementors',\n",
        " u'Director',\n",
        " u'Dumbledore',\n",
        " u'Everyone',\n",
        " u'Felthorne',\n",
        " u'Flitwick',\n",
        " u'Forbidden',\n",
        " u'Galleons',\n",
        " u'Greengrass',\n",
        " u'Grindelwald',\n",
        " u'Gringotts']"
       ]
      }
     ],
     "prompt_number": 13
    },
    {
     "cell_type": "heading",
     "level": 5,
     "metadata": {},
     "source": [
      "Character interaction networks"
     ]
    },
    {
     "cell_type": "code",
     "collapsed": false,
     "input": [
      "# in order to look at co-occurring words in a sentence, I created a new function that returns a cleaned string of the raw text\n",
      "def clean_chapter_string(url):\n",
      "    html = urlopen(url).read().decode('utf8')\n",
      "    raw = BeautifulSoup(html).get_text()          # extract all of the text from the page\n",
      "    raw_start = raw.index('Caring') + 14          # raw string start index (for sentence tokenisation)\n",
      "    raw_end = raw.index('reviews or write ')-8    # raw string end index \n",
      "    return raw [raw_start:raw_end]"
     ],
     "language": "python",
     "metadata": {},
     "outputs": [],
     "prompt_number": 15
    },
    {
     "cell_type": "code",
     "collapsed": false,
     "input": [
      "# collocations finds the pairs of words that frequently occur together\n",
      "hpmor.collocations()"
     ],
     "language": "python",
     "metadata": {},
     "outputs": [
      {
       "output_type": "stream",
       "stream": "stdout",
       "text": [
        "Professor Quirrell; Professor McGonagall; Dark Lord; Mr. Potter; old\n",
        "wizard; Defense Professor; Harry Potter; Harry said; could n't; Miss\n",
        "Granger; Hermione Granger; Sorting Hat; Patronus Charm; Potions\n",
        "Master; Lucius Malfoy; would n't; Draco Malfoy; Death Eaters; n't\n",
        "know; 've got\n"
       ]
      }
     ],
     "prompt_number": 14
    },
    {
     "cell_type": "code",
     "collapsed": false,
     "input": [
      "# Then I appended these strings into the complete raw text\n",
      "raw_text_string=\"\"\n",
      "\n",
      "for i in range(1,103):\n",
      "    url = \"http://hpmor.com/chapter/%d\" %i\n",
      "    raw_text_string = raw_text_string + ' ' + clean_chapter_string(url)"
     ],
     "language": "python",
     "metadata": {},
     "outputs": [],
     "prompt_number": 16
    },
    {
     "cell_type": "code",
     "collapsed": false,
     "input": [
      "# Then use the sent_tokenise function to split up the sentences (the function  works off the basis of a pre-trained Punktd module that can\n",
      "# differentiate sentence ends from abbreviations etc.)\n",
      "sentence_list = sent_tokenize(raw_text_string)\n",
      "num_sentences = len(sentence_list)\n",
      "sentence_list[:5]"
     ],
     "language": "python",
     "metadata": {},
     "outputs": [
      {
       "metadata": {},
       "output_type": "pyout",
       "prompt_number": 20,
       "text": [
        "[u' Chapter 1: A Day of Very Low\\nProbability\\n\\nDisclaimer: J. K. Rowling owns Harry Potter, and no one owns the\\nmethods of rationality.',\n",
        " u'This fic is widely considered to have really hit its stride\\nstarting at around Chapter 5.',\n",
        " u\"If you still don't like it after\\nChapter 10, give up.\",\n",
        " u\"Please visit HPMOR DOT COM for:\\n* Easy email notification system, RSS feed, and Twitter feed for\\nnew chapters;\\n* Current Author's Notes and progress updates;\\n* Lovely fan-made book-style PDF version;\\n* Ad-free mirror of the text;\\n* ePUB and MOBI e-texts;\\n* Ongoing podcast of the story;\\n* Fan art in vast quantities;\\n* Cameo list (characters named after fan artists);\\n* Fan-fanfiction of this fanfiction;\\n* Fan music, songs, and animations;\\n* Fan translations;\\n* The OKCupid keyword for HPMOR readers;\\n* Links to TV Tropes page and discussion forum;\\n* Trigger warnings page (warnings about possible traumatic\\nassociations for some readers; to avoid spoilers for most readers,\\nthere are no warnings inside the main story);\\n* How to learn everything the main character knows;\\n* Open job positions at a related nonprofit;\\n* And ever so much more.\",\n",
        " u'Reviews make me happy.']"
       ]
      }
     ],
     "prompt_number": 20
    },
    {
     "cell_type": "code",
     "collapsed": false,
     "input": [
      "# create a function that returns a list of the sentence indexes where both characters a and b are mentioned\n",
      "# when searching for certain characters, we need to take into account that sometimes they are referred to by different names \n",
      "# e.g. Harry can be 'The-Boy-Who-Lived' or just 'Potter'\n",
      "\n",
      "def characters_sentence_indexes(a,b):\n",
      "    l = [i for i in range(num_sentences) for A in a for B in b if (A in sentence_list[i])*(B in sentence_list[i])]\n",
      "    return list(set(l))     # first converting to a set removes the duplicates       "
     ],
     "language": "python",
     "metadata": {},
     "outputs": [],
     "prompt_number": 43
    },
    {
     "cell_type": "code",
     "collapsed": false,
     "input": [
      "# enter lists of possible names for the two characters being examined\n",
      "Harry_list = [\"Harry\",\"Boy-Who-Lived\",\"Potter\"]\n",
      "Draco_list = [\"Draco\", \"Malfoy\"]"
     ],
     "language": "python",
     "metadata": {},
     "outputs": [],
     "prompt_number": 34
    },
    {
     "cell_type": "code",
     "collapsed": false,
     "input": [
      "# apply the function to find the sentence indices where both characters feature\n",
      "Harry_Draco_sentence_indexes = characters_sentence_indexes(Harry_list,Draco_list)\n",
      "Harry_Draco_sentence_indexes = list(Harry_Draco_sentence_indexes)\n",
      "len(Harry_Draco_sentence_indexes)"
     ],
     "language": "python",
     "metadata": {},
     "outputs": [
      {
       "metadata": {},
       "output_type": "pyout",
       "prompt_number": 44,
       "text": [
        "473"
       ]
      }
     ],
     "prompt_number": 44
    },
    {
     "cell_type": "code",
     "collapsed": false,
     "input": [
      "[sentence_list[i] for i in Harry_Draco_sentence_indexes[40:50]]\n",
      "# this is more difficult than I thought. 'Potter' may sometimes refer to someone other than Harry e.g. his dad. ditto for 'Malfoy'"
     ],
     "language": "python",
     "metadata": {},
     "outputs": [
      {
       "metadata": {},
       "output_type": "pyout",
       "prompt_number": 47,
       "text": [
        "[u'It was one of the most fascinating\\nthings that Draco had ever read in his life, at least the parts he\\ncould understand, at least when the accursed idiot who\\nrefused to let his books out of his sight could manage to shut\\nup and let Draco concentrate -\\n\"Hermione Granger is a muuudbloood,\" sang Harry Potter\\nfrom where he sat at a nearby desk, reading a far more advanced\\nbook of his own.',\n",
        " u'There had been a\\nPatronus Charm to locate Draco, which Harry had successfully willed\\nto take the form of a ball of pure silver light, and the flight of\\nAurors had arrived on time to the second.',\n",
        " u'\"A Maaaalfoy is working with a muuudbloood,\\nwhat will all your father\\'s frieeeends think -\"\\n\"They\\'ll think Malfoys aren\\'t as easily manipulated as\\nyou seem to believe, Potter!\\u202f\"',\n",
        " u'\"Tell Harry,\" said Draco to the luminous snake, even though\\nHarry was standing only a few paces away on the other side of the\\nroom, \"to, um, beware the green monkey,\" this being a sign from a\\nplay Draco had once seen.',\n",
        " u\"Harry didn't say anything, so Draco looked up from his book, and\\nfelt a twinge of malicious satisfaction at the sad look on Harry's\\nface.\",\n",
        " u'\"And yes,\" said Harry, \"I am sure that Draco Malfoy\\nisn\\'t behind it.\"',\n",
        " u'But Harry didn\\'t say that, of course;\\ninstead he just grinned slightly, and said, \"So either you\\'ve\\nreally never read Draco\\'s mind, or that\\'s just what you\\nwant me to think.\"',\n",
        " u\"The other two\\ngenerals, Draco knew, had been given their own compasses; only\\nHermione Granger's hand, and Harry Potter's hand, would hold a\\ncompass that was orange-red and flickered in its reflections like\\nfire, pointing always to the direction of the largest active\\ncontingent of Dragon Army.\",\n",
        " u'\"Dr. Malfoy,\" said Dr. Potter with a hopeful look, \"I was\\nwondering if the Journal of Irreproducible Results could\\nconsider for publication my paper entitled \\'On the Heritability of\\nMagical Ability\\'.\"',\n",
        " u'Draco would have felt a lot better with Hermione Granger\\nstanding alongside him with her twenty-three Sunshine Soldiers in\\ntow, but no, the Sunshine General was being stupidly proud and\\nrefusing to accept aid against General Potter.']"
       ]
      }
     ],
     "prompt_number": 47
    },
    {
     "cell_type": "code",
     "collapsed": false,
     "input": [],
     "language": "python",
     "metadata": {},
     "outputs": []
    }
   ],
   "metadata": {}
  }
 ]
}